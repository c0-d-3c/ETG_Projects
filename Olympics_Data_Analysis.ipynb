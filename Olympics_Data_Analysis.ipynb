{
  "nbformat": 4,
  "nbformat_minor": 0,
  "metadata": {
    "colab": {
      "name": "Olympics Data Analysis.ipynb",
      "provenance": []
    },
    "kernelspec": {
      "name": "python3",
      "display_name": "Python 3"
    },
    "language_info": {
      "name": "python"
    }
  },
  "cells": [
    {
      "cell_type": "code",
      "execution_count": 53,
      "metadata": {
        "id": "fi5vJuGWziBQ"
      },
      "outputs": [],
      "source": [
        "import pandas as pd\n",
        "import numpy as np"
      ]
    },
    {
      "cell_type": "code",
      "source": [
        "df = pd.read_csv(\"summer.csv\")"
      ],
      "metadata": {
        "id": "l2m5lXTe1vD0"
      },
      "execution_count": 4,
      "outputs": []
    },
    {
      "cell_type": "code",
      "source": [
        "df"
      ],
      "metadata": {
        "colab": {
          "base_uri": "https://localhost:8080/",
          "height": 783
        },
        "id": "V1ZHYOh72Y7k",
        "outputId": "3ff71d20-91d3-4f8e-8d4d-3ccc7e86bd88"
      },
      "execution_count": 6,
      "outputs": [
        {
          "output_type": "execute_result",
          "data": {
            "text/plain": [
              "       Year    City      Sport           Discipline  \\\n",
              "0      1896  Athens   Aquatics             Swimming   \n",
              "1      1896  Athens   Aquatics             Swimming   \n",
              "2      1896  Athens   Aquatics             Swimming   \n",
              "3      1896  Athens   Aquatics             Swimming   \n",
              "4      1896  Athens   Aquatics             Swimming   \n",
              "...     ...     ...        ...                  ...   \n",
              "31160  2012  London  Wrestling  Wrestling Freestyle   \n",
              "31161  2012  London  Wrestling  Wrestling Freestyle   \n",
              "31162  2012  London  Wrestling  Wrestling Freestyle   \n",
              "31163  2012  London  Wrestling  Wrestling Freestyle   \n",
              "31164  2012  London  Wrestling  Wrestling Freestyle   \n",
              "\n",
              "                         Athlete Country Gender                       Event  \\\n",
              "0                  HAJOS, Alfred     HUN    Men              100M Freestyle   \n",
              "1               HERSCHMANN, Otto     AUT    Men              100M Freestyle   \n",
              "2              DRIVAS, Dimitrios     GRE    Men  100M Freestyle For Sailors   \n",
              "3             MALOKINIS, Ioannis     GRE    Men  100M Freestyle For Sailors   \n",
              "4             CHASAPIS, Spiridon     GRE    Men  100M Freestyle For Sailors   \n",
              "...                          ...     ...    ...                         ...   \n",
              "31160         JANIKOWSKI, Damian     POL    Men                    Wg 84 KG   \n",
              "31161  REZAEI, Ghasem Gholamreza     IRI    Men                    Wg 96 KG   \n",
              "31162             TOTROV, Rustam     RUS    Men                    Wg 96 KG   \n",
              "31163          ALEKSANYAN, Artur     ARM    Men                    Wg 96 KG   \n",
              "31164             LIDBERG, Jimmy     SWE    Men                    Wg 96 KG   \n",
              "\n",
              "        Medal  \n",
              "0        Gold  \n",
              "1      Silver  \n",
              "2      Bronze  \n",
              "3        Gold  \n",
              "4      Silver  \n",
              "...       ...  \n",
              "31160  Bronze  \n",
              "31161    Gold  \n",
              "31162  Silver  \n",
              "31163  Bronze  \n",
              "31164  Bronze  \n",
              "\n",
              "[31165 rows x 9 columns]"
            ],
            "text/html": [
              "\n",
              "  <div id=\"df-5ac9d3ec-4f90-45df-9b42-3dac269e54a5\">\n",
              "    <div class=\"colab-df-container\">\n",
              "      <div>\n",
              "<style scoped>\n",
              "    .dataframe tbody tr th:only-of-type {\n",
              "        vertical-align: middle;\n",
              "    }\n",
              "\n",
              "    .dataframe tbody tr th {\n",
              "        vertical-align: top;\n",
              "    }\n",
              "\n",
              "    .dataframe thead th {\n",
              "        text-align: right;\n",
              "    }\n",
              "</style>\n",
              "<table border=\"1\" class=\"dataframe\">\n",
              "  <thead>\n",
              "    <tr style=\"text-align: right;\">\n",
              "      <th></th>\n",
              "      <th>Year</th>\n",
              "      <th>City</th>\n",
              "      <th>Sport</th>\n",
              "      <th>Discipline</th>\n",
              "      <th>Athlete</th>\n",
              "      <th>Country</th>\n",
              "      <th>Gender</th>\n",
              "      <th>Event</th>\n",
              "      <th>Medal</th>\n",
              "    </tr>\n",
              "  </thead>\n",
              "  <tbody>\n",
              "    <tr>\n",
              "      <th>0</th>\n",
              "      <td>1896</td>\n",
              "      <td>Athens</td>\n",
              "      <td>Aquatics</td>\n",
              "      <td>Swimming</td>\n",
              "      <td>HAJOS, Alfred</td>\n",
              "      <td>HUN</td>\n",
              "      <td>Men</td>\n",
              "      <td>100M Freestyle</td>\n",
              "      <td>Gold</td>\n",
              "    </tr>\n",
              "    <tr>\n",
              "      <th>1</th>\n",
              "      <td>1896</td>\n",
              "      <td>Athens</td>\n",
              "      <td>Aquatics</td>\n",
              "      <td>Swimming</td>\n",
              "      <td>HERSCHMANN, Otto</td>\n",
              "      <td>AUT</td>\n",
              "      <td>Men</td>\n",
              "      <td>100M Freestyle</td>\n",
              "      <td>Silver</td>\n",
              "    </tr>\n",
              "    <tr>\n",
              "      <th>2</th>\n",
              "      <td>1896</td>\n",
              "      <td>Athens</td>\n",
              "      <td>Aquatics</td>\n",
              "      <td>Swimming</td>\n",
              "      <td>DRIVAS, Dimitrios</td>\n",
              "      <td>GRE</td>\n",
              "      <td>Men</td>\n",
              "      <td>100M Freestyle For Sailors</td>\n",
              "      <td>Bronze</td>\n",
              "    </tr>\n",
              "    <tr>\n",
              "      <th>3</th>\n",
              "      <td>1896</td>\n",
              "      <td>Athens</td>\n",
              "      <td>Aquatics</td>\n",
              "      <td>Swimming</td>\n",
              "      <td>MALOKINIS, Ioannis</td>\n",
              "      <td>GRE</td>\n",
              "      <td>Men</td>\n",
              "      <td>100M Freestyle For Sailors</td>\n",
              "      <td>Gold</td>\n",
              "    </tr>\n",
              "    <tr>\n",
              "      <th>4</th>\n",
              "      <td>1896</td>\n",
              "      <td>Athens</td>\n",
              "      <td>Aquatics</td>\n",
              "      <td>Swimming</td>\n",
              "      <td>CHASAPIS, Spiridon</td>\n",
              "      <td>GRE</td>\n",
              "      <td>Men</td>\n",
              "      <td>100M Freestyle For Sailors</td>\n",
              "      <td>Silver</td>\n",
              "    </tr>\n",
              "    <tr>\n",
              "      <th>...</th>\n",
              "      <td>...</td>\n",
              "      <td>...</td>\n",
              "      <td>...</td>\n",
              "      <td>...</td>\n",
              "      <td>...</td>\n",
              "      <td>...</td>\n",
              "      <td>...</td>\n",
              "      <td>...</td>\n",
              "      <td>...</td>\n",
              "    </tr>\n",
              "    <tr>\n",
              "      <th>31160</th>\n",
              "      <td>2012</td>\n",
              "      <td>London</td>\n",
              "      <td>Wrestling</td>\n",
              "      <td>Wrestling Freestyle</td>\n",
              "      <td>JANIKOWSKI, Damian</td>\n",
              "      <td>POL</td>\n",
              "      <td>Men</td>\n",
              "      <td>Wg 84 KG</td>\n",
              "      <td>Bronze</td>\n",
              "    </tr>\n",
              "    <tr>\n",
              "      <th>31161</th>\n",
              "      <td>2012</td>\n",
              "      <td>London</td>\n",
              "      <td>Wrestling</td>\n",
              "      <td>Wrestling Freestyle</td>\n",
              "      <td>REZAEI, Ghasem Gholamreza</td>\n",
              "      <td>IRI</td>\n",
              "      <td>Men</td>\n",
              "      <td>Wg 96 KG</td>\n",
              "      <td>Gold</td>\n",
              "    </tr>\n",
              "    <tr>\n",
              "      <th>31162</th>\n",
              "      <td>2012</td>\n",
              "      <td>London</td>\n",
              "      <td>Wrestling</td>\n",
              "      <td>Wrestling Freestyle</td>\n",
              "      <td>TOTROV, Rustam</td>\n",
              "      <td>RUS</td>\n",
              "      <td>Men</td>\n",
              "      <td>Wg 96 KG</td>\n",
              "      <td>Silver</td>\n",
              "    </tr>\n",
              "    <tr>\n",
              "      <th>31163</th>\n",
              "      <td>2012</td>\n",
              "      <td>London</td>\n",
              "      <td>Wrestling</td>\n",
              "      <td>Wrestling Freestyle</td>\n",
              "      <td>ALEKSANYAN, Artur</td>\n",
              "      <td>ARM</td>\n",
              "      <td>Men</td>\n",
              "      <td>Wg 96 KG</td>\n",
              "      <td>Bronze</td>\n",
              "    </tr>\n",
              "    <tr>\n",
              "      <th>31164</th>\n",
              "      <td>2012</td>\n",
              "      <td>London</td>\n",
              "      <td>Wrestling</td>\n",
              "      <td>Wrestling Freestyle</td>\n",
              "      <td>LIDBERG, Jimmy</td>\n",
              "      <td>SWE</td>\n",
              "      <td>Men</td>\n",
              "      <td>Wg 96 KG</td>\n",
              "      <td>Bronze</td>\n",
              "    </tr>\n",
              "  </tbody>\n",
              "</table>\n",
              "<p>31165 rows × 9 columns</p>\n",
              "</div>\n",
              "      <button class=\"colab-df-convert\" onclick=\"convertToInteractive('df-5ac9d3ec-4f90-45df-9b42-3dac269e54a5')\"\n",
              "              title=\"Convert this dataframe to an interactive table.\"\n",
              "              style=\"display:none;\">\n",
              "        \n",
              "  <svg xmlns=\"http://www.w3.org/2000/svg\" height=\"24px\"viewBox=\"0 0 24 24\"\n",
              "       width=\"24px\">\n",
              "    <path d=\"M0 0h24v24H0V0z\" fill=\"none\"/>\n",
              "    <path d=\"M18.56 5.44l.94 2.06.94-2.06 2.06-.94-2.06-.94-.94-2.06-.94 2.06-2.06.94zm-11 1L8.5 8.5l.94-2.06 2.06-.94-2.06-.94L8.5 2.5l-.94 2.06-2.06.94zm10 10l.94 2.06.94-2.06 2.06-.94-2.06-.94-.94-2.06-.94 2.06-2.06.94z\"/><path d=\"M17.41 7.96l-1.37-1.37c-.4-.4-.92-.59-1.43-.59-.52 0-1.04.2-1.43.59L10.3 9.45l-7.72 7.72c-.78.78-.78 2.05 0 2.83L4 21.41c.39.39.9.59 1.41.59.51 0 1.02-.2 1.41-.59l7.78-7.78 2.81-2.81c.8-.78.8-2.07 0-2.86zM5.41 20L4 18.59l7.72-7.72 1.47 1.35L5.41 20z\"/>\n",
              "  </svg>\n",
              "      </button>\n",
              "      \n",
              "  <style>\n",
              "    .colab-df-container {\n",
              "      display:flex;\n",
              "      flex-wrap:wrap;\n",
              "      gap: 12px;\n",
              "    }\n",
              "\n",
              "    .colab-df-convert {\n",
              "      background-color: #E8F0FE;\n",
              "      border: none;\n",
              "      border-radius: 50%;\n",
              "      cursor: pointer;\n",
              "      display: none;\n",
              "      fill: #1967D2;\n",
              "      height: 32px;\n",
              "      padding: 0 0 0 0;\n",
              "      width: 32px;\n",
              "    }\n",
              "\n",
              "    .colab-df-convert:hover {\n",
              "      background-color: #E2EBFA;\n",
              "      box-shadow: 0px 1px 2px rgba(60, 64, 67, 0.3), 0px 1px 3px 1px rgba(60, 64, 67, 0.15);\n",
              "      fill: #174EA6;\n",
              "    }\n",
              "\n",
              "    [theme=dark] .colab-df-convert {\n",
              "      background-color: #3B4455;\n",
              "      fill: #D2E3FC;\n",
              "    }\n",
              "\n",
              "    [theme=dark] .colab-df-convert:hover {\n",
              "      background-color: #434B5C;\n",
              "      box-shadow: 0px 1px 3px 1px rgba(0, 0, 0, 0.15);\n",
              "      filter: drop-shadow(0px 1px 2px rgba(0, 0, 0, 0.3));\n",
              "      fill: #FFFFFF;\n",
              "    }\n",
              "  </style>\n",
              "\n",
              "      <script>\n",
              "        const buttonEl =\n",
              "          document.querySelector('#df-5ac9d3ec-4f90-45df-9b42-3dac269e54a5 button.colab-df-convert');\n",
              "        buttonEl.style.display =\n",
              "          google.colab.kernel.accessAllowed ? 'block' : 'none';\n",
              "\n",
              "        async function convertToInteractive(key) {\n",
              "          const element = document.querySelector('#df-5ac9d3ec-4f90-45df-9b42-3dac269e54a5');\n",
              "          const dataTable =\n",
              "            await google.colab.kernel.invokeFunction('convertToInteractive',\n",
              "                                                     [key], {});\n",
              "          if (!dataTable) return;\n",
              "\n",
              "          const docLinkHtml = 'Like what you see? Visit the ' +\n",
              "            '<a target=\"_blank\" href=https://colab.research.google.com/notebooks/data_table.ipynb>data table notebook</a>'\n",
              "            + ' to learn more about interactive tables.';\n",
              "          element.innerHTML = '';\n",
              "          dataTable['output_type'] = 'display_data';\n",
              "          await google.colab.output.renderOutput(dataTable, element);\n",
              "          const docLink = document.createElement('div');\n",
              "          docLink.innerHTML = docLinkHtml;\n",
              "          element.appendChild(docLink);\n",
              "        }\n",
              "      </script>\n",
              "    </div>\n",
              "  </div>\n",
              "  "
            ]
          },
          "metadata": {},
          "execution_count": 6
        }
      ]
    },
    {
      "cell_type": "markdown",
      "source": [
        "#**1. In how many cities Summer Olympics is held so far?**"
      ],
      "metadata": {
        "id": "f_Y0Pbkt3N7d"
      }
    },
    {
      "cell_type": "code",
      "source": [
        "ans_1 = len(df['City'].unique())\n",
        "print(ans_1)"
      ],
      "metadata": {
        "colab": {
          "base_uri": "https://localhost:8080/"
        },
        "id": "9pBiwFks2Zgo",
        "outputId": "32003add-ad0d-4148-9ce5-a6c07a0aff7f"
      },
      "execution_count": 9,
      "outputs": [
        {
          "output_type": "stream",
          "name": "stdout",
          "text": [
            "22\n"
          ]
        }
      ]
    },
    {
      "cell_type": "markdown",
      "source": [
        "#**2. Which sport is having most number of Gold Medals so far? (Top 5)**"
      ],
      "metadata": {
        "id": "359nU3Ks3MMk"
      }
    },
    {
      "cell_type": "code",
      "source": [
        "# narrowing dataframe to gold medals\n",
        "gold_df = df[df['Medal'] ==\"Gold\"]"
      ],
      "metadata": {
        "id": "ExX7aZNh4i2t"
      },
      "execution_count": 28,
      "outputs": []
    },
    {
      "cell_type": "code",
      "source": [
        "# grouping gold medals with respective to sports\n",
        "gold_df = gold_df.groupby('Sport')\n",
        "\n",
        "#counting gold medals for each sports\n",
        "gold_df = gold_df.count()['Medal']"
      ],
      "metadata": {
        "id": "62p7L3244q6t"
      },
      "execution_count": 29,
      "outputs": []
    },
    {
      "cell_type": "code",
      "source": [
        "#sorting in non-increasing order\n",
        "gold_df = gold_df.sort_values(ascending = False)\n",
        "\n",
        "#filtering out top 5 sports having most gold medals.\n",
        "ans_2 = gold_df.head()"
      ],
      "metadata": {
        "id": "snvLQjuP4q3T"
      },
      "execution_count": 33,
      "outputs": []
    },
    {
      "cell_type": "code",
      "source": [
        "print(ans_2)\n",
        "\n",
        "# A bar graph showing top 5 sports having most gold medals.\n",
        "ans_2.plot.bar(figsize = (5,4))"
      ],
      "metadata": {
        "colab": {
          "base_uri": "https://localhost:8080/",
          "height": 467
        },
        "id": "60pxj2wP7eq2",
        "outputId": "b8fe6e37-81c0-403c-df36-dc677f5bf932"
      },
      "execution_count": 39,
      "outputs": [
        {
          "output_type": "stream",
          "name": "stdout",
          "text": [
            "Sport\n",
            "Aquatics      1421\n",
            "Athletics     1215\n",
            "Rowing         890\n",
            "Gymnastics     820\n",
            "Fencing        552\n",
            "Name: Medal, dtype: int64\n"
          ]
        },
        {
          "output_type": "execute_result",
          "data": {
            "text/plain": [
              "<matplotlib.axes._subplots.AxesSubplot at 0x7f016ed106d0>"
            ]
          },
          "metadata": {},
          "execution_count": 39
        },
        {
          "output_type": "display_data",
          "data": {
            "text/plain": [
              "<Figure size 360x288 with 1 Axes>"
            ],
            "image/png": "[encoded data removed]"
          },
          "metadata": {
            "needs_background": "light"
          }
        }
      ]
    },
    {
      "cell_type": "markdown",
      "source": [
        "#**3. Which sport is having most number of medals so far? (Top 5)**"
      ],
      "metadata": {
        "id": "i5a2xoSQ2_7V"
      }
    },
    {
      "cell_type": "code",
      "source": [
        "# grouping medals with respective to sports\n",
        "medal_df = df.groupby('Sport')\n",
        "\n",
        "#counting medals for each sports\n",
        "medal_df = medal_df.count()['Medal']"
      ],
      "metadata": {
        "id": "1YMKhPh54qys"
      },
      "execution_count": 41,
      "outputs": []
    },
    {
      "cell_type": "code",
      "source": [
        "#sorting in non-increasing order\n",
        "medal_df = medal_df.sort_values(ascending = False)\n",
        "\n",
        "#filtering out top 5 sports having most medals.\n",
        "ans_3 = medal_df.head()"
      ],
      "metadata": {
        "id": "bU02rUev4qwQ"
      },
      "execution_count": 42,
      "outputs": []
    },
    {
      "cell_type": "code",
      "source": [
        "print(ans_3)\n",
        "\n",
        "# A bar graph showing top 5 sports having most medals.\n",
        "ans_3.plot.bar(figsize = (5,4))"
      ],
      "metadata": {
        "colab": {
          "base_uri": "https://localhost:8080/",
          "height": 467
        },
        "id": "o2gkDTuv4qrX",
        "outputId": "eff84793-db69-46dc-d8b2-163b94dd541f"
      },
      "execution_count": 43,
      "outputs": [
        {
          "output_type": "stream",
          "name": "stdout",
          "text": [
            "Sport\n",
            "Aquatics      4170\n",
            "Athletics     3638\n",
            "Rowing        2667\n",
            "Gymnastics    2307\n",
            "Fencing       1613\n",
            "Name: Medal, dtype: int64\n"
          ]
        },
        {
          "output_type": "execute_result",
          "data": {
            "text/plain": [
              "<matplotlib.axes._subplots.AxesSubplot at 0x7f016eb91350>"
            ]
          },
          "metadata": {},
          "execution_count": 43
        },
        {
          "output_type": "display_data",
          "data": {
            "text/plain": [
              "<Figure size 360x288 with 1 Axes>"
            ],
            "image/png": "[encoded data removed]"
          },
          "metadata": {
            "needs_background": "light"
          }
        }
      ]
    },
    {
      "cell_type": "markdown",
      "source": [
        "#**4. Which player has won most number of medals? (Top 5)**"
      ],
      "metadata": {
        "id": "z7d1I-W-3xe-"
      }
    },
    {
      "cell_type": "code",
      "source": [
        "# grouping medals with respective to athlete\n",
        "athlete_df = df.groupby('Athlete')\n",
        "\n",
        "#counting medals for each athlete\n",
        "athlete_df = athlete_df.count()['Medal']"
      ],
      "metadata": {
        "id": "D_0XQd8s9QFO"
      },
      "execution_count": 74,
      "outputs": []
    },
    {
      "cell_type": "code",
      "source": [
        "#sorting in non-increasing order\n",
        "athlete_df = athlete_df.sort_values(ascending = False)\n",
        "\n",
        "#filtering out top 5 athlete having most medals.\n",
        "ans_4 = athlete_df.head()"
      ],
      "metadata": {
        "id": "ZC8gnjV4AczU"
      },
      "execution_count": 75,
      "outputs": []
    },
    {
      "cell_type": "code",
      "source": [
        "print(ans_4)\n",
        "\n",
        "# A bar graph showing top 5 athlete having most medals.\n",
        "ans_4.plot.bar(figsize = (4,3))"
      ],
      "metadata": {
        "colab": {
          "base_uri": "https://localhost:8080/",
          "height": 471
        },
        "id": "t0qIwyQC9QBp",
        "outputId": "dbac8c16-61e5-4b56-b9ac-fa9e57e91321"
      },
      "execution_count": 76,
      "outputs": [
        {
          "output_type": "stream",
          "name": "stdout",
          "text": [
            "Athlete\n",
            "PHELPS, Michael         22\n",
            "LATYNINA, Larisa        18\n",
            "ANDRIANOV, Nikolay      15\n",
            "MANGIAROTTI, Edoardo    13\n",
            "ONO, Takashi            13\n",
            "Name: Medal, dtype: int64\n"
          ]
        },
        {
          "output_type": "execute_result",
          "data": {
            "text/plain": [
              "<matplotlib.axes._subplots.AxesSubplot at 0x7f016e7a8bd0>"
            ]
          },
          "metadata": {},
          "execution_count": 76
        },
        {
          "output_type": "display_data",
          "data": {
            "text/plain": [
              "<Figure size 288x216 with 1 Axes>"
            ],
            "image/png": "[encoded data removed]"
          },
          "metadata": {
            "needs_background": "light"
          }
        }
      ]
    },
    {
      "cell_type": "markdown",
      "source": [
        "#**5. Which player has won most number of Gold Medals of medals? (Top 5)**"
      ],
      "metadata": {
        "id": "QGr3vONd3xbi"
      }
    },
    {
      "cell_type": "code",
      "source": [
        "# narrowing dataframe to gold medals\n",
        "athlete_gold_df = df[df['Medal'] ==\"Gold\"]"
      ],
      "metadata": {
        "id": "BwM_9DhLBWvy"
      },
      "execution_count": 70,
      "outputs": []
    },
    {
      "cell_type": "code",
      "source": [
        "# grouping gold medals with respective to athlete\n",
        "athlete_gold_df = athlete_gold_df.groupby('Athlete')\n",
        "\n",
        "#counting gold medals for each athlete\n",
        "athlete_gold_df = athlete_gold_df.count()['Medal']"
      ],
      "metadata": {
        "id": "4EfFbRuPBw1O"
      },
      "execution_count": 71,
      "outputs": []
    },
    {
      "cell_type": "code",
      "source": [
        "#sorting in non-increasing order\n",
        "athlete_gold_df = athlete_gold_df.sort_values(ascending = False)\n",
        "\n",
        "#filtering out top 5 athlete having most gold medals.\n",
        "ans_5 = athlete_gold_df.head()"
      ],
      "metadata": {
        "id": "BDFE_2M69P6a"
      },
      "execution_count": 72,
      "outputs": []
    },
    {
      "cell_type": "code",
      "source": [
        "print(ans_5)\n",
        "\n",
        "# A bar graph showing top 5 athlete having most gold medals.\n",
        "ans_5.plot.bar(figsize = (5,4))"
      ],
      "metadata": {
        "colab": {
          "base_uri": "https://localhost:8080/",
          "height": 493
        },
        "id": "WPQRnkcE4qtx",
        "outputId": "54b032f8-29b5-47f4-ce1e-ca2f48c73a78"
      },
      "execution_count": 73,
      "outputs": [
        {
          "output_type": "stream",
          "name": "stdout",
          "text": [
            "Athlete\n",
            "PHELPS, Michael     18\n",
            "LEWIS, Carl          9\n",
            "NURMI, Paavo         9\n",
            "SPITZ, Mark          9\n",
            "LATYNINA, Larisa     9\n",
            "Name: Medal, dtype: int64\n"
          ]
        },
        {
          "output_type": "execute_result",
          "data": {
            "text/plain": [
              "<matplotlib.axes._subplots.AxesSubplot at 0x7f016e301f50>"
            ]
          },
          "metadata": {},
          "execution_count": 73
        },
        {
          "output_type": "display_data",
          "data": {
            "text/plain": [
              "<Figure size 360x288 with 1 Axes>"
            ],
            "image/png": "[encoded data removed]"
          },
          "metadata": {
            "needs_background": "light"
          }
        }
      ]
    },
    {
      "cell_type": "markdown",
      "source": [
        "#**6. In which year India won first Gold Medal in Summer Olympics?**"
      ],
      "metadata": {
        "id": "6UwOdtRi3xZE"
      }
    },
    {
      "cell_type": "code",
      "source": [
        "#filtering dataframe to only data of india\n",
        "india_df = df[df['Country']=='IND']"
      ],
      "metadata": {
        "id": "cG_bwarBC23f"
      },
      "execution_count": 97,
      "outputs": []
    },
    {
      "cell_type": "code",
      "source": [
        "#filtering out data providing information about gold medals and mapping them \n",
        "#with respective year of acheivement.\n",
        "india_df = india_df[india_df['Medal']=='Gold']['Year']"
      ],
      "metadata": {
        "id": "lrC6_iM5C20E"
      },
      "execution_count": 98,
      "outputs": []
    },
    {
      "cell_type": "code",
      "source": [
        "ans_6 = india_df.min()\n",
        "print(ans_6)"
      ],
      "metadata": {
        "colab": {
          "base_uri": "https://localhost:8080/"
        },
        "id": "3qX7I4XVC2xj",
        "outputId": "28c6441c-3d3e-4387-c798-67ab000ec74a"
      },
      "execution_count": 99,
      "outputs": [
        {
          "output_type": "stream",
          "name": "stdout",
          "text": [
            "1928\n"
          ]
        }
      ]
    },
    {
      "cell_type": "markdown",
      "source": [
        "#**7. Which event is more popular in terms of numbers of players? (Top 5)**"
      ],
      "metadata": {
        "id": "_8mJRA9X3xWq"
      }
    },
    {
      "cell_type": "code",
      "source": [
        "#grouping dataframe according to events\n",
        "event_df = df.groupby('Event')\n",
        "\n",
        "#counting number of athlete for each event\n",
        "event_df = event_df.count()['Athlete']"
      ],
      "metadata": {
        "id": "ZOOT4udxGdfL"
      },
      "execution_count": 100,
      "outputs": []
    },
    {
      "cell_type": "code",
      "source": [
        "#sorting the data\n",
        "event_df = event_df.sort_values(ascending = False)\n",
        "\n",
        "#filtering out top 5 events\n",
        "ans_7 = event_df.head()"
      ],
      "metadata": {
        "id": "a_zmriMp3sAJ"
      },
      "execution_count": 101,
      "outputs": []
    },
    {
      "cell_type": "code",
      "source": [
        "print(ans_7)\n",
        "\n",
        "# A bar graph showing top 5 events\n",
        "ans_7.plot.bar(figsize = (5,4))"
      ],
      "metadata": {
        "colab": {
          "base_uri": "https://localhost:8080/",
          "height": 498
        },
        "id": "uu5g6mTAC1yG",
        "outputId": "8e5b9746-bda2-48ee-9c94-e38455a0c2c3"
      },
      "execution_count": 102,
      "outputs": [
        {
          "output_type": "stream",
          "name": "stdout",
          "text": [
            "Event\n",
            "Football            1497\n",
            "Hockey              1422\n",
            "Team Competition    1147\n",
            "Basketball          1012\n",
            "Handball             973\n",
            "Name: Athlete, dtype: int64\n"
          ]
        },
        {
          "output_type": "execute_result",
          "data": {
            "text/plain": [
              "<matplotlib.axes._subplots.AxesSubplot at 0x7f016d059c10>"
            ]
          },
          "metadata": {},
          "execution_count": 102
        },
        {
          "output_type": "display_data",
          "data": {
            "text/plain": [
              "<Figure size 360x288 with 1 Axes>"
            ],
            "image/png": "[encoded data removed]"
          },
          "metadata": {
            "needs_background": "light"
          }
        }
      ]
    },
    {
      "cell_type": "markdown",
      "source": [
        "#**8. Which sport is having most female Gold Medalists? (Top 5)**"
      ],
      "metadata": {
        "id": "clN-rl3x3xGU"
      }
    },
    {
      "cell_type": "code",
      "source": [
        "# creating the female dataframe from given dataframe\n",
        "female_df = df[df['Gender']=='Women']\n",
        "\n",
        "# modifying dataframe with respect to gold medals acheived by womens\n",
        "female_df = female_df[female_df['Medal']=='Gold']\n",
        "\n",
        "#grouping according to sports\n",
        "female_df = female_df.groupby('Sport')\n",
        "\n",
        "#counting with respect to medals acheived\n",
        "female_df = female_df.count()['Medal']"
      ],
      "metadata": {
        "id": "vwsykQZmC2vU"
      },
      "execution_count": 107,
      "outputs": []
    },
    {
      "cell_type": "code",
      "source": [
        "# sorting the data\n",
        "female_df = female_df.sort_values(ascending = False)\n",
        "\n",
        "# filtering top 5 female athletes who won gold medals\n",
        "ans_8 = female_df.head()"
      ],
      "metadata": {
        "id": "01wYebd1II_z"
      },
      "execution_count": 108,
      "outputs": []
    },
    {
      "cell_type": "code",
      "source": [
        "print(ans_8)\n",
        "ans_8.plot.bar(figsize= (5,4))"
      ],
      "metadata": {
        "colab": {
          "base_uri": "https://localhost:8080/",
          "height": 467
        },
        "id": "xtItg3ArIWpJ",
        "outputId": "544b94e7-da07-4c45-e76b-7fae4436839f"
      },
      "execution_count": 109,
      "outputs": [
        {
          "output_type": "stream",
          "name": "stdout",
          "text": [
            "Sport\n",
            "Aquatics      589\n",
            "Athletics     389\n",
            "Gymnastics    268\n",
            "Rowing        217\n",
            "Volleyball    166\n",
            "Name: Medal, dtype: int64\n"
          ]
        },
        {
          "output_type": "execute_result",
          "data": {
            "text/plain": [
              "<matplotlib.axes._subplots.AxesSubplot at 0x7f016cfabf90>"
            ]
          },
          "metadata": {},
          "execution_count": 109
        },
        {
          "output_type": "display_data",
          "data": {
            "text/plain": [
              "<Figure size 360x288 with 1 Axes>"
            ],
            "image/png": "[encoded data removed]"
          },
          "metadata": {
            "needs_background": "light"
          }
        }
      ]
    },
    {
      "cell_type": "code",
      "source": [
        ""
      ],
      "metadata": {
        "id": "S9VBe_23I4-y"
      },
      "execution_count": null,
      "outputs": []
    }
  ]
}